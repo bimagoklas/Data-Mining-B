{
 "cells": [
  {
   "cell_type": "markdown",
   "metadata": {},
   "source": [
    "# Data Cleaning"
   ]
  },
  {
   "cell_type": "code",
   "execution_count": 82,
   "metadata": {},
   "outputs": [],
   "source": [
    "import pandas as pd\n",
    "import numpy as np"
   ]
  },
  {
   "cell_type": "code",
   "execution_count": 83,
   "metadata": {},
   "outputs": [],
   "source": [
    "data = pd.read_csv('abalone.data.csv')"
   ]
  },
  {
   "cell_type": "code",
   "execution_count": 84,
   "metadata": {},
   "outputs": [
    {
     "data": {
      "text/plain": [
       "(199, 9)"
      ]
     },
     "execution_count": 84,
     "metadata": {},
     "output_type": "execute_result"
    }
   ],
   "source": [
    "data.shape"
   ]
  },
  {
   "cell_type": "code",
   "execution_count": 85,
   "metadata": {},
   "outputs": [
    {
     "data": {
      "text/html": [
       "<div>\n",
       "<style scoped>\n",
       "    .dataframe tbody tr th:only-of-type {\n",
       "        vertical-align: middle;\n",
       "    }\n",
       "\n",
       "    .dataframe tbody tr th {\n",
       "        vertical-align: top;\n",
       "    }\n",
       "\n",
       "    .dataframe thead th {\n",
       "        text-align: right;\n",
       "    }\n",
       "</style>\n",
       "<table border=\"1\" class=\"dataframe\">\n",
       "  <thead>\n",
       "    <tr style=\"text-align: right;\">\n",
       "      <th></th>\n",
       "      <th>Sex</th>\n",
       "      <th>Length</th>\n",
       "      <th>Diameter</th>\n",
       "      <th>Height</th>\n",
       "      <th>Whole weight</th>\n",
       "      <th>Shucked weight</th>\n",
       "      <th>Viscera weight</th>\n",
       "      <th>Shell weight</th>\n",
       "      <th>Rings</th>\n",
       "    </tr>\n",
       "  </thead>\n",
       "  <tbody>\n",
       "    <tr>\n",
       "      <th>0</th>\n",
       "      <td>M</td>\n",
       "      <td>0.455</td>\n",
       "      <td>0.365</td>\n",
       "      <td>0.095</td>\n",
       "      <td>0.5140</td>\n",
       "      <td>0.2245</td>\n",
       "      <td>0.1010</td>\n",
       "      <td>0.150</td>\n",
       "      <td>15</td>\n",
       "    </tr>\n",
       "    <tr>\n",
       "      <th>1</th>\n",
       "      <td>M</td>\n",
       "      <td>0.350</td>\n",
       "      <td>0.265</td>\n",
       "      <td>0.090</td>\n",
       "      <td>0.2255</td>\n",
       "      <td>0.0995</td>\n",
       "      <td>0.0485</td>\n",
       "      <td>0.070</td>\n",
       "      <td>7</td>\n",
       "    </tr>\n",
       "    <tr>\n",
       "      <th>2</th>\n",
       "      <td>F</td>\n",
       "      <td>0.530</td>\n",
       "      <td>0.420</td>\n",
       "      <td>0.135</td>\n",
       "      <td>0.6770</td>\n",
       "      <td>0.2565</td>\n",
       "      <td>0.1415</td>\n",
       "      <td>0.210</td>\n",
       "      <td>9</td>\n",
       "    </tr>\n",
       "    <tr>\n",
       "      <th>3</th>\n",
       "      <td>M</td>\n",
       "      <td>0.440</td>\n",
       "      <td>0.365</td>\n",
       "      <td>0.125</td>\n",
       "      <td>0.5160</td>\n",
       "      <td>0.2155</td>\n",
       "      <td>0.1140</td>\n",
       "      <td>0.155</td>\n",
       "      <td>10</td>\n",
       "    </tr>\n",
       "    <tr>\n",
       "      <th>4</th>\n",
       "      <td>NaN</td>\n",
       "      <td>0.330</td>\n",
       "      <td>0.255</td>\n",
       "      <td>0.080</td>\n",
       "      <td>0.2050</td>\n",
       "      <td>0.0895</td>\n",
       "      <td>0.0395</td>\n",
       "      <td>0.055</td>\n",
       "      <td>7</td>\n",
       "    </tr>\n",
       "  </tbody>\n",
       "</table>\n",
       "</div>"
      ],
      "text/plain": [
       "   Sex  Length  Diameter  Height  Whole weight  Shucked weight  \\\n",
       "0    M   0.455     0.365   0.095        0.5140          0.2245   \n",
       "1    M   0.350     0.265   0.090        0.2255          0.0995   \n",
       "2    F   0.530     0.420   0.135        0.6770          0.2565   \n",
       "3    M   0.440     0.365   0.125        0.5160          0.2155   \n",
       "4  NaN   0.330     0.255   0.080        0.2050          0.0895   \n",
       "\n",
       "   Viscera weight  Shell weight  Rings  \n",
       "0          0.1010         0.150     15  \n",
       "1          0.0485         0.070      7  \n",
       "2          0.1415         0.210      9  \n",
       "3          0.1140         0.155     10  \n",
       "4          0.0395         0.055      7  "
      ]
     },
     "execution_count": 85,
     "metadata": {},
     "output_type": "execute_result"
    }
   ],
   "source": [
    "data.head(n=5)"
   ]
  },
  {
   "cell_type": "code",
   "execution_count": 86,
   "metadata": {},
   "outputs": [
    {
     "data": {
      "text/html": [
       "<div>\n",
       "<style scoped>\n",
       "    .dataframe tbody tr th:only-of-type {\n",
       "        vertical-align: middle;\n",
       "    }\n",
       "\n",
       "    .dataframe tbody tr th {\n",
       "        vertical-align: top;\n",
       "    }\n",
       "\n",
       "    .dataframe thead th {\n",
       "        text-align: right;\n",
       "    }\n",
       "</style>\n",
       "<table border=\"1\" class=\"dataframe\">\n",
       "  <thead>\n",
       "    <tr style=\"text-align: right;\">\n",
       "      <th></th>\n",
       "      <th>Sex</th>\n",
       "      <th>Length</th>\n",
       "      <th>Diameter</th>\n",
       "      <th>Height</th>\n",
       "      <th>Whole weight</th>\n",
       "      <th>Shucked weight</th>\n",
       "      <th>Viscera weight</th>\n",
       "      <th>Shell weight</th>\n",
       "      <th>Rings</th>\n",
       "    </tr>\n",
       "  </thead>\n",
       "  <tbody>\n",
       "    <tr>\n",
       "      <th>194</th>\n",
       "      <td>F</td>\n",
       "      <td>0.510</td>\n",
       "      <td>0.400</td>\n",
       "      <td>0.140</td>\n",
       "      <td>0.8145</td>\n",
       "      <td>0.4590</td>\n",
       "      <td>0.1965</td>\n",
       "      <td>0.195</td>\n",
       "      <td>10</td>\n",
       "    </tr>\n",
       "    <tr>\n",
       "      <th>195</th>\n",
       "      <td>M</td>\n",
       "      <td>0.500</td>\n",
       "      <td>0.405</td>\n",
       "      <td>0.155</td>\n",
       "      <td>0.7720</td>\n",
       "      <td>0.3460</td>\n",
       "      <td>0.1535</td>\n",
       "      <td>0.245</td>\n",
       "      <td>12</td>\n",
       "    </tr>\n",
       "    <tr>\n",
       "      <th>196</th>\n",
       "      <td>F</td>\n",
       "      <td>0.505</td>\n",
       "      <td>0.410</td>\n",
       "      <td>0.150</td>\n",
       "      <td>0.6440</td>\n",
       "      <td>0.2850</td>\n",
       "      <td>0.1450</td>\n",
       "      <td>0.210</td>\n",
       "      <td>11</td>\n",
       "    </tr>\n",
       "    <tr>\n",
       "      <th>197</th>\n",
       "      <td>M</td>\n",
       "      <td>0.640</td>\n",
       "      <td>0.500</td>\n",
       "      <td>0.185</td>\n",
       "      <td>1.3035</td>\n",
       "      <td>0.4445</td>\n",
       "      <td>0.2635</td>\n",
       "      <td>0.465</td>\n",
       "      <td>16</td>\n",
       "    </tr>\n",
       "    <tr>\n",
       "      <th>198</th>\n",
       "      <td>M</td>\n",
       "      <td>0.560</td>\n",
       "      <td>0.450</td>\n",
       "      <td>0.160</td>\n",
       "      <td>0.9220</td>\n",
       "      <td>0.4320</td>\n",
       "      <td>0.1780</td>\n",
       "      <td>0.260</td>\n",
       "      <td>15</td>\n",
       "    </tr>\n",
       "  </tbody>\n",
       "</table>\n",
       "</div>"
      ],
      "text/plain": [
       "    Sex  Length  Diameter  Height  Whole weight  Shucked weight  \\\n",
       "194   F   0.510     0.400   0.140        0.8145          0.4590   \n",
       "195   M   0.500     0.405   0.155        0.7720          0.3460   \n",
       "196   F   0.505     0.410   0.150        0.6440          0.2850   \n",
       "197   M   0.640     0.500   0.185        1.3035          0.4445   \n",
       "198   M   0.560     0.450   0.160        0.9220          0.4320   \n",
       "\n",
       "     Viscera weight  Shell weight  Rings  \n",
       "194          0.1965         0.195     10  \n",
       "195          0.1535         0.245     12  \n",
       "196          0.1450         0.210     11  \n",
       "197          0.2635         0.465     16  \n",
       "198          0.1780         0.260     15  "
      ]
     },
     "execution_count": 86,
     "metadata": {},
     "output_type": "execute_result"
    }
   ],
   "source": [
    "data.tail(n=5)"
   ]
  },
  {
   "cell_type": "code",
   "execution_count": 87,
   "metadata": {},
   "outputs": [
    {
     "data": {
      "text/html": [
       "<div>\n",
       "<style scoped>\n",
       "    .dataframe tbody tr th:only-of-type {\n",
       "        vertical-align: middle;\n",
       "    }\n",
       "\n",
       "    .dataframe tbody tr th {\n",
       "        vertical-align: top;\n",
       "    }\n",
       "\n",
       "    .dataframe thead th {\n",
       "        text-align: right;\n",
       "    }\n",
       "</style>\n",
       "<table border=\"1\" class=\"dataframe\">\n",
       "  <thead>\n",
       "    <tr style=\"text-align: right;\">\n",
       "      <th></th>\n",
       "      <th>Length</th>\n",
       "      <th>Diameter</th>\n",
       "      <th>Height</th>\n",
       "      <th>Whole weight</th>\n",
       "      <th>Shucked weight</th>\n",
       "      <th>Viscera weight</th>\n",
       "      <th>Shell weight</th>\n",
       "      <th>Rings</th>\n",
       "    </tr>\n",
       "  </thead>\n",
       "  <tbody>\n",
       "    <tr>\n",
       "      <th>count</th>\n",
       "      <td>192.000000</td>\n",
       "      <td>192.000000</td>\n",
       "      <td>194.000000</td>\n",
       "      <td>196.000000</td>\n",
       "      <td>195.000000</td>\n",
       "      <td>191.000000</td>\n",
       "      <td>199.000000</td>\n",
       "      <td>199.000000</td>\n",
       "    </tr>\n",
       "    <tr>\n",
       "      <th>mean</th>\n",
       "      <td>0.508385</td>\n",
       "      <td>0.397734</td>\n",
       "      <td>0.134098</td>\n",
       "      <td>0.777349</td>\n",
       "      <td>0.309018</td>\n",
       "      <td>0.168207</td>\n",
       "      <td>0.252704</td>\n",
       "      <td>10.738693</td>\n",
       "    </tr>\n",
       "    <tr>\n",
       "      <th>std</th>\n",
       "      <td>0.117404</td>\n",
       "      <td>0.096054</td>\n",
       "      <td>0.039054</td>\n",
       "      <td>0.485326</td>\n",
       "      <td>0.183426</td>\n",
       "      <td>0.104823</td>\n",
       "      <td>0.173279</td>\n",
       "      <td>3.588993</td>\n",
       "    </tr>\n",
       "    <tr>\n",
       "      <th>min</th>\n",
       "      <td>0.170000</td>\n",
       "      <td>0.130000</td>\n",
       "      <td>0.040000</td>\n",
       "      <td>0.030000</td>\n",
       "      <td>0.010500</td>\n",
       "      <td>0.006500</td>\n",
       "      <td>0.010000</td>\n",
       "      <td>4.000000</td>\n",
       "    </tr>\n",
       "    <tr>\n",
       "      <th>25%</th>\n",
       "      <td>0.440000</td>\n",
       "      <td>0.348750</td>\n",
       "      <td>0.105000</td>\n",
       "      <td>0.406000</td>\n",
       "      <td>0.171250</td>\n",
       "      <td>0.086500</td>\n",
       "      <td>0.135000</td>\n",
       "      <td>8.000000</td>\n",
       "    </tr>\n",
       "    <tr>\n",
       "      <th>50%</th>\n",
       "      <td>0.530000</td>\n",
       "      <td>0.415000</td>\n",
       "      <td>0.135000</td>\n",
       "      <td>0.748000</td>\n",
       "      <td>0.295000</td>\n",
       "      <td>0.159500</td>\n",
       "      <td>0.220000</td>\n",
       "      <td>10.000000</td>\n",
       "    </tr>\n",
       "    <tr>\n",
       "      <th>75%</th>\n",
       "      <td>0.595000</td>\n",
       "      <td>0.470000</td>\n",
       "      <td>0.160000</td>\n",
       "      <td>1.030750</td>\n",
       "      <td>0.420250</td>\n",
       "      <td>0.233500</td>\n",
       "      <td>0.330000</td>\n",
       "      <td>13.000000</td>\n",
       "    </tr>\n",
       "    <tr>\n",
       "      <th>max</th>\n",
       "      <td>0.725000</td>\n",
       "      <td>0.575000</td>\n",
       "      <td>0.230000</td>\n",
       "      <td>2.550000</td>\n",
       "      <td>1.070500</td>\n",
       "      <td>0.541000</td>\n",
       "      <td>1.005000</td>\n",
       "      <td>21.000000</td>\n",
       "    </tr>\n",
       "  </tbody>\n",
       "</table>\n",
       "</div>"
      ],
      "text/plain": [
       "           Length    Diameter      Height  Whole weight  Shucked weight  \\\n",
       "count  192.000000  192.000000  194.000000    196.000000      195.000000   \n",
       "mean     0.508385    0.397734    0.134098      0.777349        0.309018   \n",
       "std      0.117404    0.096054    0.039054      0.485326        0.183426   \n",
       "min      0.170000    0.130000    0.040000      0.030000        0.010500   \n",
       "25%      0.440000    0.348750    0.105000      0.406000        0.171250   \n",
       "50%      0.530000    0.415000    0.135000      0.748000        0.295000   \n",
       "75%      0.595000    0.470000    0.160000      1.030750        0.420250   \n",
       "max      0.725000    0.575000    0.230000      2.550000        1.070500   \n",
       "\n",
       "       Viscera weight  Shell weight       Rings  \n",
       "count      191.000000    199.000000  199.000000  \n",
       "mean         0.168207      0.252704   10.738693  \n",
       "std          0.104823      0.173279    3.588993  \n",
       "min          0.006500      0.010000    4.000000  \n",
       "25%          0.086500      0.135000    8.000000  \n",
       "50%          0.159500      0.220000   10.000000  \n",
       "75%          0.233500      0.330000   13.000000  \n",
       "max          0.541000      1.005000   21.000000  "
      ]
     },
     "execution_count": 87,
     "metadata": {},
     "output_type": "execute_result"
    }
   ],
   "source": [
    "data.describe() #descriptive statistics"
   ]
  },
  {
   "cell_type": "code",
   "execution_count": 88,
   "metadata": {},
   "outputs": [
    {
     "data": {
      "text/plain": [
       "F    84\n",
       "M    82\n",
       "I    29\n",
       "Name: Sex, dtype: int64"
      ]
     },
     "execution_count": 88,
     "metadata": {},
     "output_type": "execute_result"
    }
   ],
   "source": [
    "data['Sex'].value_counts()"
   ]
  },
  {
   "cell_type": "code",
   "execution_count": 89,
   "metadata": {},
   "outputs": [
    {
     "name": "stdout",
     "output_type": "stream",
     "text": [
      "<class 'pandas.core.frame.DataFrame'>\n",
      "RangeIndex: 199 entries, 0 to 198\n",
      "Data columns (total 9 columns):\n",
      "Sex               195 non-null object\n",
      "Length            192 non-null float64\n",
      "Diameter          192 non-null float64\n",
      "Height            194 non-null float64\n",
      "Whole weight      196 non-null float64\n",
      "Shucked weight    195 non-null float64\n",
      "Viscera weight    191 non-null float64\n",
      "Shell weight      199 non-null float64\n",
      "Rings             199 non-null int64\n",
      "dtypes: float64(7), int64(1), object(1)\n",
      "memory usage: 14.1+ KB\n"
     ]
    }
   ],
   "source": [
    "data.info()"
   ]
  },
  {
   "cell_type": "markdown",
   "metadata": {},
   "source": [
    "## Imputasi Missing Value"
   ]
  },
  {
   "cell_type": "code",
   "execution_count": 90,
   "metadata": {},
   "outputs": [
    {
     "data": {
      "text/plain": [
       "Sex               4\n",
       "Length            7\n",
       "Diameter          7\n",
       "Height            5\n",
       "Whole weight      3\n",
       "Shucked weight    4\n",
       "Viscera weight    8\n",
       "Shell weight      0\n",
       "Rings             0\n",
       "dtype: int64"
      ]
     },
     "execution_count": 90,
     "metadata": {},
     "output_type": "execute_result"
    }
   ],
   "source": [
    "np.sum(data.isnull()) #number of NA for each variable"
   ]
  },
  {
   "cell_type": "code",
   "execution_count": 91,
   "metadata": {},
   "outputs": [
    {
     "data": {
      "text/plain": [
       "Sex               4\n",
       "Length            7\n",
       "Diameter          7\n",
       "Height            5\n",
       "Whole weight      3\n",
       "Shucked weight    4\n",
       "Viscera weight    8\n",
       "Shell weight      0\n",
       "Rings             0\n",
       "dtype: int64"
      ]
     },
     "execution_count": 91,
     "metadata": {},
     "output_type": "execute_result"
    }
   ],
   "source": [
    "data.isnull().sum()"
   ]
  },
  {
   "cell_type": "code",
   "execution_count": 92,
   "metadata": {},
   "outputs": [
    {
     "data": {
      "text/plain": [
       "38"
      ]
     },
     "execution_count": 92,
     "metadata": {},
     "output_type": "execute_result"
    }
   ],
   "source": [
    "data.isnull().sum().sum()"
   ]
  },
  {
   "cell_type": "code",
   "execution_count": 93,
   "metadata": {},
   "outputs": [
    {
     "data": {
      "text/plain": [
       "Sex                True\n",
       "Length            False\n",
       "Diameter          False\n",
       "Height            False\n",
       "Whole weight      False\n",
       "Shucked weight    False\n",
       "Viscera weight    False\n",
       "Shell weight      False\n",
       "Rings             False\n",
       "dtype: bool"
      ]
     },
     "execution_count": 93,
     "metadata": {},
     "output_type": "execute_result"
    }
   ],
   "source": [
    "#imputasi missing value data numerik\n",
    "data['Length'] = data['Length'].fillna((data['Length'].mean())) \n",
    "data['Diameter'] = data['Diameter'].fillna((data['Diameter'].mean()))\n",
    "data['Height'] = data['Height'].fillna((data['Height'].median()))\n",
    "data['Whole weight'] = data['Whole weight'].fillna((data['Whole weight'].median()))\n",
    "data['Shucked weight'] = data['Shucked weight'].fillna((data['Shucked weight'].median()))\n",
    "data['Viscera weight'] = data['Viscera weight'].fillna((data['Viscera weight'].median()))\n",
    "data['Shell weight'] = data['Shell weight'].fillna((data['Shell weight'].median()))\n",
    "data.isnull().any()"
   ]
  },
  {
   "cell_type": "code",
   "execution_count": 94,
   "metadata": {},
   "outputs": [
    {
     "data": {
      "text/plain": [
       "Sex               False\n",
       "Length            False\n",
       "Diameter          False\n",
       "Height            False\n",
       "Whole weight      False\n",
       "Shucked weight    False\n",
       "Viscera weight    False\n",
       "Shell weight      False\n",
       "Rings             False\n",
       "dtype: bool"
      ]
     },
     "execution_count": 94,
     "metadata": {},
     "output_type": "execute_result"
    }
   ],
   "source": [
    "#imputasi data kategorik dengan modus\n",
    "data['Sex'] = data.fillna(data['Sex'].value_counts().index[0])\n",
    "data.isnull().any()"
   ]
  },
  {
   "cell_type": "markdown",
   "metadata": {},
   "source": [
    "## Encode Labels"
   ]
  },
  {
   "cell_type": "code",
   "execution_count": 95,
   "metadata": {},
   "outputs": [],
   "source": [
    "from sklearn.preprocessing import LabelEncoder"
   ]
  },
  {
   "cell_type": "code",
   "execution_count": 101,
   "metadata": {},
   "outputs": [
    {
     "data": {
      "text/html": [
       "<div>\n",
       "<style scoped>\n",
       "    .dataframe tbody tr th:only-of-type {\n",
       "        vertical-align: middle;\n",
       "    }\n",
       "\n",
       "    .dataframe tbody tr th {\n",
       "        vertical-align: top;\n",
       "    }\n",
       "\n",
       "    .dataframe thead th {\n",
       "        text-align: right;\n",
       "    }\n",
       "</style>\n",
       "<table border=\"1\" class=\"dataframe\">\n",
       "  <thead>\n",
       "    <tr style=\"text-align: right;\">\n",
       "      <th></th>\n",
       "      <th>Sex</th>\n",
       "      <th>Length</th>\n",
       "      <th>Diameter</th>\n",
       "      <th>Height</th>\n",
       "      <th>Whole weight</th>\n",
       "      <th>Shucked weight</th>\n",
       "      <th>Viscera weight</th>\n",
       "      <th>Shell weight</th>\n",
       "      <th>Rings</th>\n",
       "    </tr>\n",
       "  </thead>\n",
       "  <tbody>\n",
       "    <tr>\n",
       "      <th>0</th>\n",
       "      <td>2</td>\n",
       "      <td>-1.0</td>\n",
       "      <td>-1.0</td>\n",
       "      <td>-1.0</td>\n",
       "      <td>-1.0</td>\n",
       "      <td>-1.0</td>\n",
       "      <td>-1.0</td>\n",
       "      <td>-1.0</td>\n",
       "      <td>15</td>\n",
       "    </tr>\n",
       "    <tr>\n",
       "      <th>1</th>\n",
       "      <td>2</td>\n",
       "      <td>-1.0</td>\n",
       "      <td>-1.0</td>\n",
       "      <td>-1.0</td>\n",
       "      <td>-1.0</td>\n",
       "      <td>-1.0</td>\n",
       "      <td>-1.0</td>\n",
       "      <td>-1.0</td>\n",
       "      <td>7</td>\n",
       "    </tr>\n",
       "    <tr>\n",
       "      <th>2</th>\n",
       "      <td>0</td>\n",
       "      <td>1.0</td>\n",
       "      <td>1.0</td>\n",
       "      <td>1.0</td>\n",
       "      <td>-1.0</td>\n",
       "      <td>-1.0</td>\n",
       "      <td>-1.0</td>\n",
       "      <td>-1.0</td>\n",
       "      <td>9</td>\n",
       "    </tr>\n",
       "    <tr>\n",
       "      <th>3</th>\n",
       "      <td>2</td>\n",
       "      <td>-1.0</td>\n",
       "      <td>-1.0</td>\n",
       "      <td>-1.0</td>\n",
       "      <td>-1.0</td>\n",
       "      <td>-1.0</td>\n",
       "      <td>-1.0</td>\n",
       "      <td>-1.0</td>\n",
       "      <td>10</td>\n",
       "    </tr>\n",
       "    <tr>\n",
       "      <th>4</th>\n",
       "      <td>0</td>\n",
       "      <td>-1.0</td>\n",
       "      <td>-1.0</td>\n",
       "      <td>-1.0</td>\n",
       "      <td>-1.0</td>\n",
       "      <td>-1.0</td>\n",
       "      <td>-1.0</td>\n",
       "      <td>-1.0</td>\n",
       "      <td>7</td>\n",
       "    </tr>\n",
       "  </tbody>\n",
       "</table>\n",
       "</div>"
      ],
      "text/plain": [
       "   Sex  Length  Diameter  Height  Whole weight  Shucked weight  \\\n",
       "0    2    -1.0      -1.0    -1.0          -1.0            -1.0   \n",
       "1    2    -1.0      -1.0    -1.0          -1.0            -1.0   \n",
       "2    0     1.0       1.0     1.0          -1.0            -1.0   \n",
       "3    2    -1.0      -1.0    -1.0          -1.0            -1.0   \n",
       "4    0    -1.0      -1.0    -1.0          -1.0            -1.0   \n",
       "\n",
       "   Viscera weight  Shell weight  Rings  \n",
       "0            -1.0          -1.0     15  \n",
       "1            -1.0          -1.0      7  \n",
       "2            -1.0          -1.0      9  \n",
       "3            -1.0          -1.0     10  \n",
       "4            -1.0          -1.0      7  "
      ]
     },
     "execution_count": 101,
     "metadata": {},
     "output_type": "execute_result"
    }
   ],
   "source": [
    "# Encode untuk Sex tanpa membuat kolom baru\n",
    "data['Sex'] = LabelEncoder().fit_transform(data['Sex'])\n",
    "data.head()"
   ]
  },
  {
   "cell_type": "markdown",
   "metadata": {
    "collapsed": true
   },
   "source": [
    "## Standardize"
   ]
  },
  {
   "cell_type": "code",
   "execution_count": 97,
   "metadata": {},
   "outputs": [],
   "source": [
    "from sklearn.preprocessing import StandardScaler"
   ]
  },
  {
   "cell_type": "code",
   "execution_count": 98,
   "metadata": {},
   "outputs": [
    {
     "data": {
      "text/html": [
       "<div>\n",
       "<style scoped>\n",
       "    .dataframe tbody tr th:only-of-type {\n",
       "        vertical-align: middle;\n",
       "    }\n",
       "\n",
       "    .dataframe tbody tr th {\n",
       "        vertical-align: top;\n",
       "    }\n",
       "\n",
       "    .dataframe thead th {\n",
       "        text-align: right;\n",
       "    }\n",
       "</style>\n",
       "<table border=\"1\" class=\"dataframe\">\n",
       "  <thead>\n",
       "    <tr style=\"text-align: right;\">\n",
       "      <th></th>\n",
       "      <th>Sex</th>\n",
       "      <th>Length</th>\n",
       "      <th>Diameter</th>\n",
       "      <th>Height</th>\n",
       "      <th>Whole weight</th>\n",
       "      <th>Shucked weight</th>\n",
       "      <th>Viscera weight</th>\n",
       "      <th>Shell weight</th>\n",
       "      <th>Rings</th>\n",
       "    </tr>\n",
       "  </thead>\n",
       "  <tbody>\n",
       "    <tr>\n",
       "      <th>0</th>\n",
       "      <td>2</td>\n",
       "      <td>-0.464140</td>\n",
       "      <td>-0.347855</td>\n",
       "      <td>-1.017149</td>\n",
       "      <td>-0.547224</td>\n",
       "      <td>-0.465091</td>\n",
       "      <td>-0.652645</td>\n",
       "      <td>-0.594201</td>\n",
       "      <td>15</td>\n",
       "    </tr>\n",
       "    <tr>\n",
       "      <th>1</th>\n",
       "      <td>2</td>\n",
       "      <td>-1.377023</td>\n",
       "      <td>-1.410514</td>\n",
       "      <td>-1.147150</td>\n",
       "      <td>-1.147719</td>\n",
       "      <td>-1.155250</td>\n",
       "      <td>-1.165141</td>\n",
       "      <td>-1.057048</td>\n",
       "      <td>7</td>\n",
       "    </tr>\n",
       "    <tr>\n",
       "      <th>2</th>\n",
       "      <td>0</td>\n",
       "      <td>0.187920</td>\n",
       "      <td>0.236608</td>\n",
       "      <td>0.022865</td>\n",
       "      <td>-0.207950</td>\n",
       "      <td>-0.288410</td>\n",
       "      <td>-0.257291</td>\n",
       "      <td>-0.247065</td>\n",
       "      <td>9</td>\n",
       "    </tr>\n",
       "    <tr>\n",
       "      <th>3</th>\n",
       "      <td>2</td>\n",
       "      <td>-0.594551</td>\n",
       "      <td>-0.347855</td>\n",
       "      <td>-0.237139</td>\n",
       "      <td>-0.543062</td>\n",
       "      <td>-0.514782</td>\n",
       "      <td>-0.525741</td>\n",
       "      <td>-0.565273</td>\n",
       "      <td>10</td>\n",
       "    </tr>\n",
       "    <tr>\n",
       "      <th>4</th>\n",
       "      <td>0</td>\n",
       "      <td>-1.550905</td>\n",
       "      <td>-1.516780</td>\n",
       "      <td>-1.407154</td>\n",
       "      <td>-1.190388</td>\n",
       "      <td>-1.210463</td>\n",
       "      <td>-1.252998</td>\n",
       "      <td>-1.143832</td>\n",
       "      <td>7</td>\n",
       "    </tr>\n",
       "  </tbody>\n",
       "</table>\n",
       "</div>"
      ],
      "text/plain": [
       "   Sex    Length  Diameter    Height  Whole weight  Shucked weight  \\\n",
       "0    2 -0.464140 -0.347855 -1.017149     -0.547224       -0.465091   \n",
       "1    2 -1.377023 -1.410514 -1.147150     -1.147719       -1.155250   \n",
       "2    0  0.187920  0.236608  0.022865     -0.207950       -0.288410   \n",
       "3    2 -0.594551 -0.347855 -0.237139     -0.543062       -0.514782   \n",
       "4    0 -1.550905 -1.516780 -1.407154     -1.190388       -1.210463   \n",
       "\n",
       "   Viscera weight  Shell weight  Rings  \n",
       "0       -0.652645     -0.594201     15  \n",
       "1       -1.165141     -1.057048      7  \n",
       "2       -0.257291     -0.247065      9  \n",
       "3       -0.525741     -0.565273     10  \n",
       "4       -1.252998     -1.143832      7  "
      ]
     },
     "execution_count": 98,
     "metadata": {},
     "output_type": "execute_result"
    }
   ],
   "source": [
    "data['Length'] = StandardScaler().fit(data[['Length']]).transform(data[['Length']])\n",
    "data['Diameter'] = StandardScaler().fit(data[['Diameter']]).transform(data[['Diameter']])\n",
    "data['Height'] = StandardScaler().fit(data[['Height']]).transform(data[['Height']])\n",
    "data['Whole weight'] = StandardScaler().fit(data[['Whole weight']]).transform(data[['Whole weight']])\n",
    "data['Shucked weight'] = StandardScaler().fit(data[['Shucked weight']]).transform(data[['Shucked weight']])\n",
    "data['Viscera weight'] = StandardScaler().fit(data[['Viscera weight']]).transform(data[['Viscera weight']])\n",
    "data['Shell weight'] = StandardScaler().fit(data[['Shell weight']]).transform(data[['Shell weight']])\n",
    "data.head()"
   ]
  },
  {
   "cell_type": "markdown",
   "metadata": {},
   "source": [
    "# Normalize"
   ]
  },
  {
   "cell_type": "code",
   "execution_count": 99,
   "metadata": {},
   "outputs": [],
   "source": [
    "from sklearn.preprocessing import Normalizer "
   ]
  },
  {
   "cell_type": "code",
   "execution_count": 100,
   "metadata": {},
   "outputs": [
    {
     "data": {
      "text/html": [
       "<div>\n",
       "<style scoped>\n",
       "    .dataframe tbody tr th:only-of-type {\n",
       "        vertical-align: middle;\n",
       "    }\n",
       "\n",
       "    .dataframe tbody tr th {\n",
       "        vertical-align: top;\n",
       "    }\n",
       "\n",
       "    .dataframe thead th {\n",
       "        text-align: right;\n",
       "    }\n",
       "</style>\n",
       "<table border=\"1\" class=\"dataframe\">\n",
       "  <thead>\n",
       "    <tr style=\"text-align: right;\">\n",
       "      <th></th>\n",
       "      <th>Sex</th>\n",
       "      <th>Length</th>\n",
       "      <th>Diameter</th>\n",
       "      <th>Height</th>\n",
       "      <th>Whole weight</th>\n",
       "      <th>Shucked weight</th>\n",
       "      <th>Viscera weight</th>\n",
       "      <th>Shell weight</th>\n",
       "      <th>Rings</th>\n",
       "    </tr>\n",
       "  </thead>\n",
       "  <tbody>\n",
       "    <tr>\n",
       "      <th>0</th>\n",
       "      <td>2</td>\n",
       "      <td>-1.0</td>\n",
       "      <td>-1.0</td>\n",
       "      <td>-1.0</td>\n",
       "      <td>-1.0</td>\n",
       "      <td>-1.0</td>\n",
       "      <td>-1.0</td>\n",
       "      <td>-1.0</td>\n",
       "      <td>15</td>\n",
       "    </tr>\n",
       "    <tr>\n",
       "      <th>1</th>\n",
       "      <td>2</td>\n",
       "      <td>-1.0</td>\n",
       "      <td>-1.0</td>\n",
       "      <td>-1.0</td>\n",
       "      <td>-1.0</td>\n",
       "      <td>-1.0</td>\n",
       "      <td>-1.0</td>\n",
       "      <td>-1.0</td>\n",
       "      <td>7</td>\n",
       "    </tr>\n",
       "    <tr>\n",
       "      <th>2</th>\n",
       "      <td>0</td>\n",
       "      <td>1.0</td>\n",
       "      <td>1.0</td>\n",
       "      <td>1.0</td>\n",
       "      <td>-1.0</td>\n",
       "      <td>-1.0</td>\n",
       "      <td>-1.0</td>\n",
       "      <td>-1.0</td>\n",
       "      <td>9</td>\n",
       "    </tr>\n",
       "    <tr>\n",
       "      <th>3</th>\n",
       "      <td>2</td>\n",
       "      <td>-1.0</td>\n",
       "      <td>-1.0</td>\n",
       "      <td>-1.0</td>\n",
       "      <td>-1.0</td>\n",
       "      <td>-1.0</td>\n",
       "      <td>-1.0</td>\n",
       "      <td>-1.0</td>\n",
       "      <td>10</td>\n",
       "    </tr>\n",
       "    <tr>\n",
       "      <th>4</th>\n",
       "      <td>0</td>\n",
       "      <td>-1.0</td>\n",
       "      <td>-1.0</td>\n",
       "      <td>-1.0</td>\n",
       "      <td>-1.0</td>\n",
       "      <td>-1.0</td>\n",
       "      <td>-1.0</td>\n",
       "      <td>-1.0</td>\n",
       "      <td>7</td>\n",
       "    </tr>\n",
       "  </tbody>\n",
       "</table>\n",
       "</div>"
      ],
      "text/plain": [
       "   Sex  Length  Diameter  Height  Whole weight  Shucked weight  \\\n",
       "0    2    -1.0      -1.0    -1.0          -1.0            -1.0   \n",
       "1    2    -1.0      -1.0    -1.0          -1.0            -1.0   \n",
       "2    0     1.0       1.0     1.0          -1.0            -1.0   \n",
       "3    2    -1.0      -1.0    -1.0          -1.0            -1.0   \n",
       "4    0    -1.0      -1.0    -1.0          -1.0            -1.0   \n",
       "\n",
       "   Viscera weight  Shell weight  Rings  \n",
       "0            -1.0          -1.0     15  \n",
       "1            -1.0          -1.0      7  \n",
       "2            -1.0          -1.0      9  \n",
       "3            -1.0          -1.0     10  \n",
       "4            -1.0          -1.0      7  "
      ]
     },
     "execution_count": 100,
     "metadata": {},
     "output_type": "execute_result"
    }
   ],
   "source": [
    "data['Length'] = Normalizer().fit(data[['Length']]).transform(data[['Length']])\n",
    "data['Diameter'] = Normalizer().fit(data[['Diameter']]).transform(data[['Diameter']])\n",
    "data['Height'] = Normalizer().fit(data[['Height']]).transform(data[['Height']])\n",
    "data['Whole weight'] = Normalizer().fit(data[['Whole weight']]).transform(data[['Whole weight']])\n",
    "data['Shucked weight'] = Normalizer().fit(data[['Shucked weight']]).transform(data[['Shucked weight']])\n",
    "data['Viscera weight'] = Normalizer().fit(data[['Viscera weight']]).transform(data[['Viscera weight']])\n",
    "data['Shell weight'] = Normalizer().fit(data[['Shell weight']]).transform(data[['Shell weight']])\n",
    "data.head()"
   ]
  },
  {
   "cell_type": "code",
   "execution_count": null,
   "metadata": {},
   "outputs": [],
   "source": []
  },
  {
   "cell_type": "code",
   "execution_count": null,
   "metadata": {},
   "outputs": [],
   "source": []
  }
 ],
 "metadata": {
  "kernelspec": {
   "display_name": "Python 3",
   "language": "python",
   "name": "python3"
  },
  "language_info": {
   "codemirror_mode": {
    "name": "ipython",
    "version": 3
   },
   "file_extension": ".py",
   "mimetype": "text/x-python",
   "name": "python",
   "nbconvert_exporter": "python",
   "pygments_lexer": "ipython3",
   "version": "3.7.1"
  }
 },
 "nbformat": 4,
 "nbformat_minor": 2
}
